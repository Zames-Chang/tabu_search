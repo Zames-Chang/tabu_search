{
 "cells": [
  {
   "cell_type": "code",
   "execution_count": 1,
   "metadata": {},
   "outputs": [],
   "source": [
    "from tabu_search import *\n",
    "\n",
    "Jobs = [i+1 for i in range(20)]\n",
    "Processing_Time = [10,10,13,4,9,4,8,15,7,1,9,3,15,9,11,6,5,14,18,3]\n",
    "Due_Date = [50,38,49,12,20,105,73,45,6,64,15,6,92,43,78,21,15,50,150,99]\n",
    "Weights = [10,5,1,5,10,1,5,10,5,1,5,10,10,5,1,10,5,5,1,5]\n",
    "\n",
    "data = {\n",
    "    'jobs':Jobs,\n",
    "    'time': Processing_Time,\n",
    "    'due':Due_Date,\n",
    "    'weights':Weights\n",
    "}"
   ]
  },
  {
   "cell_type": "code",
   "execution_count": 6,
   "metadata": {},
   "outputs": [
    {
     "name": "stdout",
     "output_type": "stream",
     "text": [
      "current_loss =  5898\n",
      "tabu_list =  [[1, 20]]\n",
      "current_loss =  5451\n",
      "tabu_list =  [[16, 18], [1, 20]]\n",
      "current_loss =  4618\n",
      "tabu_list =  [[18, 19], [19, 18]]\n",
      "current_loss =  4301\n",
      "tabu_list =  [[2, 17], [16, 8]]\n",
      "current_loss =  4165\n",
      "tabu_list =  [[16, 18], [19, 8]]\n",
      "current_loss =  3225\n",
      "tabu_list =  [[7, 11], [8, 19]]\n",
      "current_loss =  3189\n",
      "tabu_list =  [[17, 8], [12, 9]]\n",
      "using  0.16494393348693848\n"
     ]
    }
   ],
   "source": [
    "step = 1000\n",
    "tabu_size = 2\n",
    "start_time = time.time()\n",
    "a,z = train(data,tabu_size,step)\n",
    "print(\"using \",time.time()-start_time)"
   ]
  },
  {
   "cell_type": "code",
   "execution_count": null,
   "metadata": {},
   "outputs": [],
   "source": []
  }
 ],
 "metadata": {
  "kernelspec": {
   "display_name": "Python 3",
   "language": "python",
   "name": "python3"
  },
  "language_info": {
   "codemirror_mode": {
    "name": "ipython",
    "version": 3
   },
   "file_extension": ".py",
   "mimetype": "text/x-python",
   "name": "python",
   "nbconvert_exporter": "python",
   "pygments_lexer": "ipython3",
   "version": "3.6.4"
  }
 },
 "nbformat": 4,
 "nbformat_minor": 2
}
