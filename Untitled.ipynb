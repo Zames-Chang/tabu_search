{
 "cells": [
  {
   "cell_type": "code",
   "execution_count": 1,
   "metadata": {},
   "outputs": [],
   "source": [
    "import time"
   ]
  },
  {
   "cell_type": "code",
   "execution_count": 2,
   "metadata": {},
   "outputs": [],
   "source": [
    "Jobs = [i+1 for i in range(20)]\n",
    "Processing_Time = [10,10,13,4,9,4,8,15,7,1,9,3,15,9,11,6,5,14,18,3]\n",
    "Due_Date = [50,38,49,12,20,105,73,45,6,64,15,6,92,43,78,21,15,50,150,99]\n",
    "Weights = [10,5,1,5,10,1,5,10,5,1,5,10,10,5,1,10,5,5,1,5]\n",
    "\n",
    "data = {\n",
    "    'jobs':Jobs,\n",
    "    'time': Processing_Time,\n",
    "    'due':Due_Date,\n",
    "    'weights':Weights\n",
    "}"
   ]
  },
  {
   "cell_type": "code",
   "execution_count": 3,
   "metadata": {},
   "outputs": [],
   "source": [
    "def cumsum(x):\n",
    "    result = []\n",
    "    temp = 0\n",
    "    for i in x:\n",
    "        temp += i\n",
    "        result.append(temp)\n",
    "    return result\n",
    "def arrange(arrange_arr,data):\n",
    "    now = data.copy()\n",
    "    for var in ['jobs','time','due','weights']:\n",
    "        temp = []\n",
    "        for i in arrange_arr:\n",
    "            temp.append(now[var][i-1])\n",
    "        now[var] = temp\n",
    "    return now\n",
    "def myswap_arr(arrange_arr):\n",
    "    result = []\n",
    "    copy = arrange_arr.copy()\n",
    "    for i in range(len(copy)-1):\n",
    "        temp = myswap(copy,[i,i+1])\n",
    "        result.append(temp)\n",
    "    return result\n",
    "def myswap(x,index):\n",
    "    i = index[0]\n",
    "    j = index[1]\n",
    "    result = x.copy()\n",
    "    temp = result[i]\n",
    "    result[i] = result[j]\n",
    "    result[j] = temp\n",
    "    return result\n",
    "def loss(data):\n",
    "    result = 0\n",
    "    process_time = cumsum(data['time'])\n",
    "    for index in range(len(data['weights'])):\n",
    "        w = data['weights'][index]\n",
    "        d = data['due'][index]\n",
    "        p = process_time[index]\n",
    "        x = max(p-d,0)\n",
    "        result += w*x\n",
    "    return result\n",
    "def checkTabu(arrange_arr,tabu_list):\n",
    "    if(len(tabu_list) == 0):\n",
    "        return True\n",
    "    for tabu in tabu_list:\n",
    "        i = tabu[0]\n",
    "        j = tabu[1]\n",
    "        for index in range(len(arrange_arr)-1):\n",
    "            if(arrange_arr[index] == i and arrange_arr[index+1] == j):\n",
    "                #print(arrange_arr)\n",
    "                return False\n",
    "    return True"
   ]
  },
  {
   "cell_type": "code",
   "execution_count": 4,
   "metadata": {},
   "outputs": [],
   "source": [
    "def train_one_step(data,tabu_list,tabu_size):\n",
    "    init_loss = loss(data)\n",
    "    current = data.copy()\n",
    "    big_loss = 9999999\n",
    "    tabu = []\n",
    "    neighborhoods = myswap_arr(data['jobs'])\n",
    "    for index,neighborhood in enumerate(neighborhoods):\n",
    "        #print(neighborhood)\n",
    "        if(checkTabu(neighborhood,tabu_list)):\n",
    "            #print(neighborhood)\n",
    "            temp = arrange(neighborhood,current)\n",
    "            temp_loss = loss(temp)\n",
    "            #print(\"temp_loss=\",temp_loss)\n",
    "            if(temp_loss < big_loss):\n",
    "                tabu = [current['jobs'][index],current['jobs'][index+1]]\n",
    "                current = temp\n",
    "    if(tabu != []):\n",
    "        tabu_list.append(tabu)\n",
    "    if(len(tabu_list) > tabu_size):\n",
    "        tabu_list.pop(0)\n",
    "    return current\n",
    "def train(data,tabu_size,steps):\n",
    "    tabu_list = []\n",
    "    copy = data.copy()\n",
    "    z = 0\n",
    "    optimal = data.copy()\n",
    "    current_loss = 99999999\n",
    "    for i in range(steps):\n",
    "        #print(\"{} iteration\\nloss = \".format(i),loss(copy))\n",
    "        #print(\"tabu_list = \",tabu_list)\n",
    "        copy = train_one_step(copy,tabu_list,tabu_size)\n",
    "        if(loss(copy) < current_loss):\n",
    "            z = i\n",
    "            print(loss(copy))\n",
    "            current_loss = loss(copy)\n",
    "            optimal = copy.copy()\n",
    "    return optimal,z"
   ]
  },
  {
   "cell_type": "code",
   "execution_count": 5,
   "metadata": {},
   "outputs": [
    {
     "name": "stdout",
     "output_type": "stream",
     "text": [
      "5898\n",
      "5538\n",
      "5338\n",
      "5090\n",
      "4666\n",
      "3945\n",
      "3768\n",
      "3411\n",
      "3322\n",
      "2748\n",
      "2582\n",
      "2577\n",
      "using  325.6567611694336\n"
     ]
    }
   ],
   "source": [
    "test = [i+1 for i in range(20)]\n",
    "mytest = arrange(test,data)\n",
    "step = 1000000\n",
    "start_time = time.time()\n",
    "a,z = train(mytest,0,step)\n",
    "print(\"using \",time.time()-start_time)"
   ]
  },
  {
   "cell_type": "code",
   "execution_count": 6,
   "metadata": {},
   "outputs": [
    {
     "name": "stdout",
     "output_type": "stream",
     "text": [
      "{'jobs': [20, 12, 17, 5, 4, 11, 16, 1, 7, 9, 8, 2, 14, 15, 10, 13, 3, 6, 18, 19], 'time': [3, 3, 5, 9, 4, 9, 6, 10, 8, 7, 15, 10, 9, 11, 1, 15, 13, 4, 14, 18], 'due': [99, 6, 15, 20, 12, 15, 21, 50, 73, 6, 45, 38, 43, 78, 64, 92, 49, 105, 50, 150], 'weights': [5, 10, 5, 10, 5, 5, 10, 10, 5, 5, 10, 5, 5, 1, 1, 10, 1, 1, 5, 1]}\n"
     ]
    }
   ],
   "source": [
    "print(a)"
   ]
  },
  {
   "cell_type": "code",
   "execution_count": 7,
   "metadata": {},
   "outputs": [
    {
     "data": {
      "text/plain": [
       "0.9980635166537568"
      ]
     },
     "execution_count": 7,
     "metadata": {},
     "output_type": "execute_result"
    }
   ],
   "source": []
  },
  {
   "cell_type": "code",
   "execution_count": null,
   "metadata": {},
   "outputs": [],
   "source": []
  }
 ],
 "metadata": {
  "kernelspec": {
   "display_name": "Python 3",
   "language": "python",
   "name": "python3"
  },
  "language_info": {
   "codemirror_mode": {
    "name": "ipython",
    "version": 3
   },
   "file_extension": ".py",
   "mimetype": "text/x-python",
   "name": "python",
   "nbconvert_exporter": "python",
   "pygments_lexer": "ipython3",
   "version": "3.6.4"
  }
 },
 "nbformat": 4,
 "nbformat_minor": 2
}
